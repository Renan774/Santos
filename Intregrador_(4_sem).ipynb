{
  "nbformat": 4,
  "nbformat_minor": 0,
  "metadata": {
    "colab": {
      "provenance": [],
      "include_colab_link": true
    },
    "kernelspec": {
      "name": "python3",
      "display_name": "Python 3"
    },
    "language_info": {
      "name": "python"
    }
  },
  "cells": [
    {
      "cell_type": "markdown",
      "metadata": {
        "id": "view-in-github",
        "colab_type": "text"
      },
      "source": [
        "<a href=\"https://colab.research.google.com/github/Renan774/Santos/blob/main/Intregrador_(4_sem).ipynb\" target=\"_parent\"><img src=\"https://colab.research.google.com/assets/colab-badge.svg\" alt=\"Open In Colab\"/></a>"
      ]
    },
    {
      "cell_type": "code",
      "execution_count": null,
      "metadata": {
        "id": "Buux6o-RwCl5"
      },
      "outputs": [],
      "source": [
        "#Importando Bibliotecas\n",
        "import json\n",
        "import pandas as pd\n",
        "import matplotlib.pyplot as plt"
      ]
    },
    {
      "cell_type": "code",
      "source": [
        "# Carrega os dados de doações e doadores de arquivos JSON\n",
        "def load_data():\n",
        "    try:\n",
        "        with open('doacoes.json', 'r') as file:\n",
        "            doacoes = json.load(file)  # Carrega a lista de doações\n",
        "    except FileNotFoundError:\n",
        "        doacoes = []  # Se o arquivo não existir, inicia uma lista vazia\n",
        "\n",
        "    try:\n",
        "        with open('doadores.json', 'r') as file:\n",
        "            doadores = json.load(file)  # Carrega o dicionário de doadores\n",
        "    except FileNotFoundError:\n",
        "        doadores = {}  # Se o arquivo não existir, inicia um dicionário vazio\n",
        "\n",
        "    return doacoes, doadores  # Retorna ambas as listas"
      ],
      "metadata": {
        "id": "L1Aa-cZo1WSa"
      },
      "execution_count": null,
      "outputs": []
    },
    {
      "cell_type": "code",
      "source": [
        "# Salvando os dados de Doações e Doadores em arquivos JSON\n",
        "def save_data(doacoes, doadores):\n",
        "    with open('doacoes.json', 'w') as file:\n",
        "        json.dump(doacoes, file)  # Salva a lista de doações no arquivo\n",
        "    with open('doadores.json', 'w') as file:\n",
        "        json.dump(doadores, file)  # Salva o dicionário de doadores no arquivo"
      ],
      "metadata": {
        "id": "71QWP0qd1_EF"
      },
      "execution_count": null,
      "outputs": []
    },
    {
      "cell_type": "code",
      "source": [
        "# Registra um Doador\n",
        "def register_doador(doadores):\n",
        "    nome = input(\"Digite o nome completo do doador: \")\n",
        "\n",
        "    # Verifica se o doador já está cadastrado\n",
        "    if nome in doadores:\n",
        "        print(\"Doador já cadastrado. Seu ID é:\", doadores[nome])  # Exibe o ID se o doador já estiver cadastrado\n",
        "        return doadores[nome]  # Retorna o ID existente\n",
        "\n",
        "    endereço = input(\"Digite o endereço do doador: \")\n",
        "    telefone = input(\"Digite o telefone do doador: \")\n",
        "    email = input(\"Digite o email do doador: \")\n",
        "\n",
        "    doador_id = len(doadores) + 1  # Gera um novo ID baseado na quantidade atual de doadores\n",
        "    doadores[nome] = doador_id  # Armazena o doador no dicionário\n",
        "    print(f\"Doador cadastrado com sucesso! Seu ID é: {doador_id}\")  # Confirma o cadastro\n",
        "    save_data([], doadores)  # Salva o dicionário de doadores\n",
        "    return doador_id  # Retorna o novo ID do doador"
      ],
      "metadata": {
        "id": "2iyKeWvW3Yfm"
      },
      "execution_count": null,
      "outputs": []
    },
    {
      "cell_type": "code",
      "source": [
        "# Adiciona a nova doação à lista\n",
        "def add_doacao(doacoes, doadores):\n",
        "    doador_id = input(\"Digite seu ID de doador (ou pressione Enter para continuar sem cadastro): \")\n",
        "\n",
        "    if doador_id == \"\":\n",
        "        doador = input(\"Digite o nome do doador: \")\n",
        "    else:\n",
        "        doador = [name for name, id_ in doadores.items() if str(id_) == doador_id]\n",
        "        if doador:\n",
        "            doador = doador[0]  # Se encontrado, usa o nome do doador\n",
        "        else:\n",
        "            print(\"ID inválido. Por favor, registre-se.\")  # Se não encontrado, informa erro\n",
        "            return\n",
        "\n",
        "    # Solicitando informações sobre a doação\n",
        "    alimento = input(\"Digite o tipo de alimento: \")\n",
        "    quantidade = input(\"Digite a quantidade: \")\n",
        "    categoria = input(\"Digite a categoria do alimento: \")\n",
        "    data = input(\"Digite a data (DD/MM/AAAA): \")\n",
        "\n",
        "    # Verifica se todos os campos foram preenchidos\n",
        "    if not doador or not alimento or not quantidade or not categoria or not data:\n",
        "        print(\"Todos os campos são obrigatórios.\")\n",
        "        return\n",
        "\n",
        "    # Adiciona a doação à lista\n",
        "    nova_doacao = {\n",
        "        \"doador\": doador,\n",
        "        \"alimento\": alimento,\n",
        "        \"quantidade\": quantidade,\n",
        "        \"categoria\": categoria,\n",
        "        \"data\": data\n",
        "    }\n",
        "\n",
        "    doacoes.append(nova_doacao)  # Adiciona a nova doação à lista\n",
        "    save_data(doacoes, doadores)  # Salva as doações e doadores\n",
        "    print(\"Doação registrada com sucesso!\")"
      ],
      "metadata": {
        "id": "qfO3nx4O4Nkf"
      },
      "execution_count": null,
      "outputs": []
    },
    {
      "cell_type": "code",
      "source": [
        "# Lista todas as doações registradas\n",
        "def list_doacoes(doacoes):\n",
        "    if not doacoes:\n",
        "        print(\"Nenhuma doação registrada.\")\n",
        "        return\n",
        "\n",
        "    df = pd.DataFrame(doacoes)  # Converte a lista de doações em um DataFrame do Pandas\n",
        "    print(df)  # Exibe o DataFrame\n",
        "    print(f\"Total de doações: {len(doacoes)}\")  # Exibe o total de doações"
      ],
      "metadata": {
        "id": "40BTs4rMAc0E"
      },
      "execution_count": null,
      "outputs": []
    },
    {
      "cell_type": "code",
      "source": [
        "# Remove uma doação com base na data fornecida pelo usuário\n",
        "def remove_doacao(doacoes):\n",
        "    data = input(\"Digite a data da doação a ser removida (DD/MM/AAAA): \")\n",
        "    doacao_removida = False  # Variável para verificar se alguma doação foi removida\n",
        "\n",
        "    # Filtra a lista para remover a doação com a data especificada\n",
        "    nova_lista = [d for d in doacoes if d['data'] != data]\n",
        "\n",
        "    if len(nova_lista) < len(doacoes):  # Verifica se houve alguma remoção\n",
        "        doacao_removida = True\n",
        "\n",
        "    # Atualiza a lista de doações\n",
        "    doacoes[:] = nova_lista  # Atualiza a lista original para refletir a remoção\n",
        "\n",
        "    if doacao_removida:\n",
        "        save_data(doacoes, {})  # Salva a lista atualizada sem alterar os doadores\n",
        "        print(\"Doação(s) removida(s) com sucesso.\")\n",
        "    else:\n",
        "        print(\"Nenhuma doação encontrada com essa data.\")"
      ],
      "metadata": {
        "id": "o5YnaNih62lQ"
      },
      "execution_count": null,
      "outputs": []
    },
    {
      "cell_type": "code",
      "source": [
        "# Atualiza doações que estejam incompletas\n",
        "def update_doacao(doacoes):\n",
        "    data = input(\"Digite a data da doação a ser atualizada: \")\n",
        "    for doacao in doacoes:\n",
        "        if doacao['data'] == data:  # Procura a doação pela data\n",
        "            print(\"Doação encontrada:\")\n",
        "            print(doacao)  # Exibe a doação encontrada\n",
        "            # Solicita novas informações\n",
        "            doacao['quantidade'] = input(\"Digite a nova quantidade: \")\n",
        "            doacao['categoria'] = input(\"Digite a nova categoria: \")\n",
        "            save_data(doacoes, {})  # Salva as doações atualizadas\n",
        "            print(\"Doação atualizada.\")  # Confirma a atualização\n",
        "            return\n",
        "    print(\"Doação não encontrada.\")  # Mensagem se a doação não for encontrada"
      ],
      "metadata": {
        "id": "RKKZmzBM7LHr"
      },
      "execution_count": null,
      "outputs": []
    },
    {
      "cell_type": "code",
      "source": [
        "# Gera gráficos com estatísticas sobre as doações\n",
        "def generate_statistics(doacoes):\n",
        "    if not doacoes:\n",
        "        print(\"Nenhuma doação registrada para gerar dados.\")  # Mensagem se não houver doações\n",
        "        return\n",
        "\n",
        "    df = pd.DataFrame(doacoes)  # Converte a lista de doações em um DataFrame do Pandas\n",
        "\n",
        "    # Calculando estatísticas para o gráfico\n",
        "    total_doacoes = len(df)  # Total de doações\n",
        "    doadores_unicos = df['doador'].nunique()  # Número de doadores únicos\n",
        "    categorias = df['categoria'].value_counts()  # Contagem de doações por categoria\n",
        "\n",
        "    # Gráfico de total de doações e doadores únicos\n",
        "    plt.figure(figsize=(12, 6))\n",
        "\n",
        "    # Gráfico de barras para total de doações e doadores únicos\n",
        "    plt.subplot(1, 2, 1)  # Cria um subplot\n",
        "    plt.bar(['Total de Doações', 'Doadores Únicos'], [total_doacoes, doadores_unicos], color=['blue', 'orange'])\n",
        "    plt.title('Total de Doações e Doadores Únicos')  # Título do gráfico\n",
        "    plt.ylabel('Número')  # Eixo Y\n",
        "\n",
        "    # Gráfico de doações por categoria\n",
        "    plt.subplot(1, 2, 2)  # Cria outro subplot\n",
        "    categorias.plot(kind='bar', color='green')  # Plota as categorias em um gráfico de barras\n",
        "    plt.title('Doações por Categoria')  # Título do gráfico\n",
        "    plt.xlabel('Categoria')  # Eixo X\n",
        "    plt.ylabel('Número de Doações')  # Eixo Y\n",
        "    plt.xticks(rotation=45)  # Rotaciona os rótulos do eixo X para melhor legibilidade\n",
        "\n",
        "    plt.tight_layout()  # Ajusta o layout para evitar sobreposição\n",
        "    plt.show()  # Exibe os gráficos"
      ],
      "metadata": {
        "id": "A7byvo6a74Pb"
      },
      "execution_count": null,
      "outputs": []
    },
    {
      "cell_type": "code",
      "source": [
        "# Exporta as doações para um arquivo CSV\n",
        "def export_to_csv(doacoes):\n",
        "    if not doacoes:\n",
        "        print(\"Nenhuma doação registrada para exportar.\")\n",
        "        return\n",
        "\n",
        "    df = pd.DataFrame(doacoes)  # Converte a lista de doações em um DataFrame do Pandas\n",
        "    nome_arquivo = input(\"Digite o nome do arquivo CSV (sem extensão): \") + \".csv\"\n",
        "    df.to_csv(nome_arquivo, index=False)  # Salva o DataFrame em um arquivo CSV\n",
        "    print(f\"Doações exportadas com sucesso para {nome_arquivo}.\")\n",
        "\n",
        "# Baixa as doações em um arquivo JSON\n",
        "def download_as_json(doacoes):\n",
        "    if not doacoes:\n",
        "        print(\"Nenhuma doação registrada para baixar.\")\n",
        "        return\n",
        "\n",
        "    nome_arquivo = input(\"Digite o nome do arquivo JSON (sem extensão): \") + \".json\"\n",
        "    with open(nome_arquivo, 'w') as file:\n",
        "        json.dump(doacoes, file)  # Salva a lista de doações em um arquivo JSON\n",
        "    print(f\"Doações baixadas com sucesso para {nome_arquivo}.\")"
      ],
      "metadata": {
        "id": "3zjC3EXWybRa"
      },
      "execution_count": null,
      "outputs": []
    },
    {
      "cell_type": "code",
      "source": [
        "#Função Principal que Executa o Programa (Layout)\n",
        "def main():\n",
        "    doacoes, doadores = load_data()  # Carrega as doações e doadores do arquivo\n",
        "    while True:\n",
        "        print(\"\\nSistema de Doações\")\n",
        "\n",
        "# Menu de opções\n",
        "        print(\"\\n1. Cadastrar doador\")\n",
        "        print(\"2. Adicionar doação\")\n",
        "        print(\"3. Listar doações\")\n",
        "        print(\"4. Remover doação\")\n",
        "        print(\"5. Atualizar doação\")\n",
        "        print(\"6. Gerar estatísticas\")\n",
        "        print(\"7. Exportar para CSV\")\n",
        "        print(\"8. Baixar como JSON\")\n",
        "        print(\"9. Sair\")\n",
        "        opcao = input(\"Escolha uma opção: \")\n",
        "\n",
        "        if opcao == '1':\n",
        "            register_doador(doadores)  # Cadastra um novo doador\n",
        "        elif opcao == '2':\n",
        "            add_doacao(doacoes, doadores)  # Adiciona uma nova doação\n",
        "        elif opcao == '3':\n",
        "            list_doacoes(doacoes)  # Lista as doações\n",
        "        elif opcao == '4':\n",
        "            remove_doacao(doacoes)  # Remove uma doação\n",
        "        elif opcao == '5':\n",
        "            update_doacao(doacoes)  # Atualiza uma doação\n",
        "        elif opcao == '6':\n",
        "            generate_statistics(doacoes)  # Gera estatísticas\n",
        "        elif opcao == '7':\n",
        "            export_to_csv(doacoes)  # Exporta doações para CSV\n",
        "        elif opcao == '8':\n",
        "            download_as_json(doacoes)  # Baixa doações como JSON\n",
        "        elif opcao == '9':\n",
        "            print(\"Saindo do programa.\")\n",
        "            break  # Sai do loop\n",
        "        else:\n",
        "            print(\"Opção inválida. Tente novamente.\")\n",
        "\n",
        "if __name__ == \"__main__\":\n",
        "        main()  # Chama a função principal para executar o programa"
      ],
      "metadata": {
        "colab": {
          "base_uri": "https://localhost:8080/"
        },
        "id": "FACL7l1U8n1P",
        "outputId": "beed0377-5bf9-44f6-c6e2-4719e39989cc"
      },
      "execution_count": null,
      "outputs": [
        {
          "output_type": "stream",
          "name": "stdout",
          "text": [
            "\n",
            "Sistema de Doações\n",
            "\n",
            "1. Cadastrar doador\n",
            "2. Adicionar doação\n",
            "3. Listar doações\n",
            "4. Remover doação\n",
            "5. Atualizar doação\n",
            "6. Gerar estatísticas\n",
            "7. Exportar para CSV\n",
            "8. Baixar como JSON\n",
            "9. Sair\n",
            "Escolha uma opção: 9\n",
            "Saindo do programa.\n"
          ]
        }
      ]
    }
  ]
}